{
 "cells": [
  {
   "cell_type": "markdown",
   "metadata": {},
   "source": [
    "### Question Pair Matching\n",
    "Questions are composed of semantic, syntactic and grammatical features. The relative importance of different features will depend on the topic in which the question belongs. In order to leverage these properties to match question pairs, 3 models were combined with final boosted decision tree. The first model is a topic model. In order to model each questions topic, Latent Dirichlet Allocation (LDA) was used. A strict topic match between question 1 and question 2 was not enforced. Instead, predicted topics were passed to the final decision tree. This allows for the possibility of a duplicate question spanning multiple topics. The second model is an end-to-end classification based on each questions TF-IDF vectors. Lastly, for some topics a strict matching between proper names is important. For example, in the travel topic, when asking directions to specific places, its is important to match the specific place name. In order to capture this information, Named Entity Recognition (NER) is used. The level of matching between NER objects in q1 and q2 is then passed as a feature into the final decision tree to allow different levels of NER matching for different question topics."
   ]
  },
  {
   "cell_type": "markdown",
   "metadata": {},
   "source": [
    "#### Imports:"
   ]
  },
  {
   "cell_type": "code",
   "execution_count": 1,
   "metadata": {},
   "outputs": [
    {
     "name": "stderr",
     "output_type": "stream",
     "text": [
      "/home/jbryslaw/anaconda3/envs/mednet/lib/python3.6/site-packages/smart_open/ssh.py:34: UserWarning: paramiko missing, opening SSH/SCP/SFTP paths will be disabled.  `pip install paramiko` to suppress\n",
      "  warnings.warn('paramiko missing, opening SSH/SCP/SFTP paths will be disabled.  `pip install paramiko` to suppress')\n"
     ]
    }
   ],
   "source": [
    "import numpy as np\n",
    "import pandas as pd\n",
    "\n",
    "import matplotlib.pyplot as plt\n",
    "import matplotlib.patches as mpatches\n",
    "from matplotlib.colors import ListedColormap\n",
    "from sklearn.model_selection import train_test_split\n",
    "from sklearn.feature_extraction.text import CountVectorizer, TfidfVectorizer\n",
    "\n",
    "from sklearn.decomposition import PCA, TruncatedSVD\n",
    "from sklearn.linear_model import LogisticRegression\n",
    "from sklearn import preprocessing\n",
    "from sklearn.metrics.pairwise import cosine_similarity\n",
    "from scipy.spatial.distance import squareform, cdist\n",
    "from sklearn.metrics.pairwise import pairwise_distances\n",
    "from scipy.sparse import hstack as sparse_hstack\n",
    "from scipy import sparse\n",
    "\n",
    "import gensim.corpora as corpora\n",
    "from gensim import models as gen_models\n",
    "from gensim.matutils import Sparse2Corpus\n",
    "from gensim.corpora.dictionary import Dictionary\n",
    "from gensim.test.utils import datapath\n",
    "from gensim.models import CoherenceModel\n",
    "\n",
    "from nltk import download as nltkdownload\n",
    "from nltk.tokenize import RegexpTokenizer\n",
    "from nltk.corpus import stopwords as nltkstopwords\n",
    "from nltk.stem import PorterStemmer\n",
    "\n",
    "import xgboost as xgb\n",
    "\n",
    "# random seed\n",
    "SEED = 1\n",
    "# use subset of training data?\n",
    "USE_SUBSET = False#True\n",
    "subset_power = 10"
   ]
  },
  {
   "cell_type": "markdown",
   "metadata": {},
   "source": [
    "### Downloads:\n",
    "The only download in the notebook is the line below, which downloads the stopwords db from nltk:"
   ]
  },
  {
   "cell_type": "code",
   "execution_count": 2,
   "metadata": {},
   "outputs": [
    {
     "name": "stderr",
     "output_type": "stream",
     "text": [
      "[nltk_data] Downloading package stopwords to\n",
      "[nltk_data]     /home/jbryslaw/nltk_data...\n",
      "[nltk_data]   Package stopwords is already up-to-date!\n"
     ]
    }
   ],
   "source": [
    "#### Downloads stop words from NLTK\n",
    "nltkdownload('stopwords')\n",
    "nltk_stopset =nltkstopwords.words('english')"
   ]
  },
  {
   "cell_type": "markdown",
   "metadata": {},
   "source": [
    "### Utility Functions:\n",
    "Here I will define several utility functions which will be used through out."
   ]
  },
  {
   "cell_type": "code",
   "execution_count": 3,
   "metadata": {},
   "outputs": [],
   "source": [
    "#get the set of unique words in q1 and q2\n",
    "def get_uniq(df,colname):\n",
    "    return set([token for question in df[colname] for token in question])"
   ]
  },
  {
   "cell_type": "code",
   "execution_count": 4,
   "metadata": {},
   "outputs": [],
   "source": [
    "#transform token sets to ordered lists:\n",
    "def set_to_list(in_set):\n",
    "    out = list(in_set)\n",
    "    out.sort()\n",
    "    return out"
   ]
  },
  {
   "cell_type": "code",
   "execution_count": 5,
   "metadata": {},
   "outputs": [],
   "source": [
    "# plot a histogram from a list\n",
    "def plot_list(counts,xnames,ytitle = 'Counts',xtitle = \"Bins\",title=\"Histogram\"):\n",
    "    assert len(counts) != 0 and len(counts) == len(xnames)\n",
    "    fig = plt.figure()\n",
    "    ax = fig.add_subplot(111)\n",
    "    x = np.arange(len(counts))\n",
    "    plt.bar(x,height=counts)\n",
    "    plt.xticks(x,xnames)\n",
    "    ax.set_xlabel(xtitle)\n",
    "    ax.set_ylabel(ytitle)\n",
    "    ax.set_title(title)"
   ]
  },
  {
   "cell_type": "code",
   "execution_count": 6,
   "metadata": {},
   "outputs": [],
   "source": [
    "# make a scatter plot from a list\n",
    "def plot_scatter_list(counts,xnames,ytitle = 'Counts',xtitle = \"Bins\",title=\"Histogram\"):\n",
    "    assert len(counts) != 0 and len(counts) == len(xnames)\n",
    "    fig = plt.figure()\n",
    "    ax = fig.add_subplot(111)\n",
    "    x = np.arange(len(counts))\n",
    "    plt.scatter(x,counts)\n",
    "    plt.xticks(x,xnames)\n",
    "    ax.set_xlabel(xtitle)\n",
    "    ax.set_ylabel(ytitle)\n",
    "    ax.set_title(title)"
   ]
  },
  {
   "cell_type": "code",
   "execution_count": 7,
   "metadata": {},
   "outputs": [],
   "source": [
    "####################################\n",
    "### CM Utils\n",
    "####################################\n",
    "# make a confusion matrix from truth and predcition arrays\n",
    "def get_cm(y_test,y_pred):\n",
    "    #np.logical_and(y_test.values.ravel()==y_pred,(y_test==1).values.ravel())\n",
    "    # True Positives:\n",
    "    TP = np.logical_and((y_test.values.ravel()==y_pred),(y_test==1).values.ravel()).sum()\n",
    "    # True Negatives:\n",
    "    TN = np.logical_and((y_test.values.ravel()==y_pred),(y_test==0).values.ravel()).sum()\n",
    "    # False Positives:\n",
    "    FP = np.logical_and((y_test.values.ravel()!=y_pred),(y_pred==1).ravel()).sum()\n",
    "    # False Negatives:\n",
    "    FN = np.logical_and((y_test.values.ravel()!=y_pred),(y_pred==0).ravel()).sum()\n",
    "    \n",
    "    assert TP+FN != 0\n",
    "    assert TP+FP != 0\n",
    "    R = 1.0*TP/(TP+FN)\n",
    "    P = 1.0*TP/(TP+FP)\n",
    "    ACC = 1.0*(TP+TN)/(TP+TN+FP+FN)\n",
    "    return np.array([[TP,FN],[FP,TN]]), R, P, ACC\n",
    "\n",
    "def norm_cm(cm):    \n",
    "    return cm.astype('float') / cm.sum(axis=1)[:, np.newaxis]\n",
    "\n",
    "### cm plotter from sklearn docs\n",
    "# https://scikit-learn.org/stable/auto_examples/model_selection/plot_confusion_matrix.html\n",
    "def plot_cm(ncm):\n",
    "    cmap=plt.cm.Blues\n",
    "    fig, ax = plt.subplots()\n",
    "    im = ax.imshow(ncm, cmap=cmap)\n",
    "    ax.figure.colorbar(im, ax=ax)\n",
    "    class_labels = [1,0]\n",
    "    ax.set(xticks=np.arange(ncm.shape[1]),\n",
    "           yticks=np.arange(ncm.shape[0]),\n",
    "           xticklabels=class_labels, yticklabels=class_labels,\n",
    "           title=\"Confusion Matrix\",\n",
    "           ylabel='True Label',\n",
    "           xlabel='Predicted label')\n",
    "    for i in range(ncm.shape[0]):\n",
    "        for j in range(ncm.shape[1]):\n",
    "            ax.text(j, i, format(ncm[i, j], '.2f'),\n",
    "                    ha=\"center\", va=\"center\",                    \n",
    "                    color=\"white\" if ncm[i, j] >  (ncm.max() / 2) else \"black\")\n",
    "    fig.tight_layout()\n",
    "####################################"
   ]
  },
  {
   "cell_type": "code",
   "execution_count": 8,
   "metadata": {},
   "outputs": [],
   "source": [
    "# plot a reduced dimensionality view of embeddings\n",
    "def plot_PCA_emb(in_embed,y_labels):\n",
    "    tsvd =  TruncatedSVD(n_components=2)\n",
    "    tsvd.fit(in_embed)\n",
    "    tsvd_scores = tsvd.transform(in_embed)\n",
    "    lcolors = ['orange','blue']\n",
    "    colormap = ListedColormap(lcolors)\n",
    "    plt.scatter(tsvd_scores[:,0], tsvd_scores[:,1], s=8, alpha=.8, c=y_labels['duplicate'].tolist(),cmap=colormap)"
   ]
  },
  {
   "cell_type": "code",
   "execution_count": 9,
   "metadata": {},
   "outputs": [],
   "source": [
    "# Fit Logistic Regression\n",
    "def fit_logr(X_train,y_train,X_val,y_val,thresh=0.5,class_weight={}):\n",
    "    logr = LogisticRegression(class_weight=class_weight,random_state=SEED)\n",
    "    fit_logr = logr.fit(X_train,y_train)\n",
    "    y_predprob = fit_logr.predict_proba(X_val)\n",
    "    y_pred = (y_predprob[:,1] > thresh)\n",
    "    cm, R, P, ACC = get_cm(y_val,y_pred)\n",
    "    ncm = norm_cm(cm)\n",
    "    plot_cm(ncm)\n",
    "    print(\"Recall:\",R,\"\\n\",\"Precision:\",P,\"\\n\",\"ACC:\",ACC,\"\\n\",ncm)\n",
    "    return y_predprob"
   ]
  },
  {
   "cell_type": "code",
   "execution_count": 10,
   "metadata": {},
   "outputs": [],
   "source": [
    "# add token columns from a df col of sentences\n",
    "def add_token_col(df_in,colname):\n",
    "    tokenizer = RegexpTokenizer(r'\\w+')\n",
    "    df_in[f\"{colname}_tokens\"] = df_in[colname].apply(tokenizer.tokenize)"
   ]
  },
  {
   "cell_type": "code",
   "execution_count": 11,
   "metadata": {},
   "outputs": [],
   "source": [
    "# add the LDA topic to the df\n",
    "def add_topic_col(df_in,colname,embedding,model):\n",
    "    df_in[f\"{colname}_topic\"] = df_in[colname].apply(\\\n",
    "        lambda row: embedding.get_topic_from_line(row,\\\n",
    "        model))"
   ]
  },
  {
   "cell_type": "code",
   "execution_count": 12,
   "metadata": {},
   "outputs": [],
   "source": [
    "### Standarize input before model\n",
    "#scaler = preprocessing.StandardScaler(with_mean=False).fit(trainBOW_vsum.astype('float'))\n",
    "#X_embsum_std = scaler.transform(trainBOW_vsum.astype('float'))\n",
    "#val_embsum_std = scaler.transform(valBOW_vsum.astype('float'))"
   ]
  },
  {
   "cell_type": "markdown",
   "metadata": {},
   "source": [
    "#### END Utility Functions"
   ]
  },
  {
   "cell_type": "markdown",
   "metadata": {},
   "source": [
    "### Class Definitions\n",
    "First a class to contain the embeddings for the end-to-end classification model is created. The class stores the corpus found from all questions in the training set and contains functions to perform the BOW and TFIDF transformations."
   ]
  },
  {
   "cell_type": "code",
   "execution_count": 13,
   "metadata": {},
   "outputs": [],
   "source": [
    "### Embeddings class\n",
    "class embObj:\n",
    "    def __init__(self,df_in):\n",
    "        self.df_in = df_in\n",
    "        self.bow_cv = None\n",
    "        self.bow_emb = None\n",
    "        self.all_q = None # all questions\n",
    "        self.tfidf_cv = None\n",
    "        self.tfidf_emb = None\n",
    "        self.stop_words = None\n",
    "        \n",
    "    #function to get all questions\n",
    "    def get_all_q(self, uniq=True):\n",
    "        self.all_q = pd.concat((self.df_in['q1'],self.df_in['q2']))\n",
    "        if uniq:\n",
    "            self.all_q = self.all_q.unique()\n",
    "        return self.all_q\n",
    "    \n",
    "    # Need to fit vectorizers on all words in q1+q2\n",
    "    def bow(self):\n",
    "        if self.all_q == None: self.get_all_q()\n",
    "        self.bow_cv = CountVectorizer(stop_words=self.stop_words)    \n",
    "        self.bow_emb = self.bow_cv.fit_transform(self.all_q)\n",
    "        return self.bow_emb, self.bow_cv\n",
    "    \n",
    "    def bow_trnsfrm(self,df_trfm):\n",
    "        if self.bow_cv == None: self.bow()\n",
    "        self.bow_cv._validate_vocabulary()\n",
    "        embq1 = self.bow_cv.transform(df_trfm['q1'].values)\n",
    "        embq2 = self.bow_cv.transform(df_trfm['q2'].values)\n",
    "        return embq1, embq2\n",
    "        \n",
    "    # TFIDF Vectorize on all words in q1+q2 with option for ngrams\n",
    "    def TFIDF(self,w_ngrams=True,singlecol=False):\n",
    "        if w_ngrams: self.tfidf_cv = TfidfVectorizer(ngram_range=(2,3))\n",
    "        else: self.tfidf_cv = TfidfVectorizer(stop_words=self.stop_words)\n",
    "        if not singlecol:\n",
    "            if self.all_q == None: self.get_all_q()            \n",
    "            self.tfidf_emb = self.tfidf_cv.fit_transform(self.all_q)\n",
    "        else:\n",
    "            self.tfidf_emb = self.tfidf_cv.fit_transform(self.df_in)\n",
    "        return self.tfidf_emb, self.tfidf_cv\n",
    "    \n",
    "    def tfidf_trnsfrm(self,df_trfm,singlecol=False):\n",
    "        if self.tfidf_cv == None: self.TFIDF(singlecol=singlecol)\n",
    "        self.tfidf_cv._validate_vocabulary()\n",
    "        if not singlecol:\n",
    "            embq1 = self.tfidf_cv.transform(df_trfm['q1'].values)\n",
    "            embq2 = self.tfidf_cv.transform(df_trfm['q2'].values)\n",
    "            return embq1, embq2\n",
    "        else:\n",
    "            emb = self.tfidf_cv.transform(df_trfm.values)\n",
    "            return emb\n",
    "        "
   ]
  },
  {
   "cell_type": "markdown",
   "metadata": {},
   "source": [
    "This second class contains the LDA topic embedding. It inherits from the embeddings class, because it will rely on the TFIDF transformations"
   ]
  },
  {
   "cell_type": "code",
   "execution_count": 14,
   "metadata": {},
   "outputs": [],
   "source": [
    "# create a class for the lda embeddings\n",
    "# inherit from the bow embedding class defined above\n",
    "class lda_emb(embObj):\n",
    "    def __init__(self,df_in,preset_dict=None):\n",
    "        embObj.__init__(self,df_in)\n",
    "        self.allq_corp = None\n",
    "        self.TFemb = None\n",
    "        self.TF_cv = None\n",
    "        self.corpus = None\n",
    "        self.dictionary = None\n",
    "        self.model_distro = []\n",
    "         #num_topics = [3,5,10,15,20,25]\n",
    "        self.Ntopic_distro = [5,10,25,50,100,250,500]\n",
    "        self.cohere_distro = []\n",
    "        self.single_model = None\n",
    "        self.top_words = []\n",
    "        self.preset_dict = preset_dict\n",
    "    \n",
    "    # Generate the corpus from TFIDF\n",
    "    def genTFIDF(self,singlecol=False):\n",
    "        self.TFemb, self.TF_cv = self.TFIDF(w_ngrams=False,singlecol=singlecol)\n",
    "        self.corpus = Sparse2Corpus(self.TFemb,documents_columns=False)\n",
    "        self.dictionary = Dictionary.from_corpus(\\\n",
    "            self.corpus,id2word=dict((ids, word) for word, ids in self.TF_cv.vocabulary_.items()))\n",
    "    \n",
    "    # create a distribution of models with different number\n",
    "    #  of topics\n",
    "    def gen_model_distro(self,b_save = True,b_compute_cohere = True):\n",
    "        if self.corpus == None: self.genTFIDF()\n",
    "        for N in self.Ntopic_distro:\n",
    "            self.model_distro.append(gen_models.LdaModel(corpus=self.corpus, num_topics = N, \\\n",
    "                               id2word=self.dictionary,passes=20,alpha='auto',\\\n",
    "                               update_every=0, per_word_topics=True, minimum_probability=0.2,\\\n",
    "                               random_state=SEED))\n",
    "            if b_compute_cohere:\n",
    "                cohere_m = CoherenceModel(model = self.model_distro[-1],\\\n",
    "                    corpus = self.corpus, coherence = 'u_mass')\n",
    "                cohere_val = cohere_m.get_coherence()\n",
    "                self.cohere_distro.append(cohere_val)\n",
    "            if b_save:\n",
    "                self.model_distro[-1].save(f\"models/lda_{N}.gensim\")\n",
    "    #Read LDA model from disk\n",
    "    def read_model_distro(self):\n",
    "        self.model_distro.clear()\n",
    "        for i,N in enumerate(self.Ntopic_distro):\n",
    "            self.model_distro.append(gen_models.LdaModel.load(f\"models/lda_{N}.gensim\"))\n",
    "            \n",
    "    # Generate a single model from a fixed number of topics \n",
    "    # This function will be used in the final analysis after a topic number is selected\n",
    "    def get_single_model(self,Num_Topics=3):\n",
    "        if self.corpus == None: self.genTFIDF()\n",
    "        self.single_model = gen_models.LdaModel(corpus=self.corpus, num_topics = Num_Topics, \\\n",
    "                               id2word=self.dictionary,passes=20,alpha='auto',\\\n",
    "                               update_every=0, per_word_topics=True, minimum_probability=0.2,\\\n",
    "                               random_state=SEED)\n",
    "        \n",
    "    def showTopic_words(self,model,N,topn=5):\n",
    "        for i in range(N):\n",
    "            self.top_words=model.show_topic(i,topn)\n",
    "            #print(self.top_words)\n",
    "            \n",
    "    def showTopics(self,topn=5):\n",
    "        for i, model in enumerate(self.model_distro):\n",
    "            N = self.Ntopic_distro[i]\n",
    "            #print(f\" Using {N} topics:\")\n",
    "            self.showTopic_words(model,N,topn=topn)\n",
    "    \n",
    "    def predict_topic(self,model):\n",
    "        if self.corpus == None: self.genTFIDF(singlecol=True)\n",
    "        return model[self.corpus]\n",
    "    \n",
    "    def get_topic_from_line(self,doc,model):\n",
    "        #docbow = self.dictionary.doc2bow(doc)\n",
    "        docbow = self.preset_dict.doc2bow(doc)\n",
    "        docTopics = model.get_document_topics(docbow)\n",
    "        #return the topic number with the highest probability\n",
    "        vprob = [prob[1] for prob in docTopics]\n",
    "        max_index = np.argmax(vprob)\n",
    "        return docTopics[max_index][0]"
   ]
  },
  {
   "cell_type": "markdown",
   "metadata": {},
   "source": [
    "Text cleaning class, defines stop words and regex functions. The philosophy used for text cleaning was to clean the text before LDA topic modeling, but use the raw text for the end-to-end classification. If LDA is run without text cleaning, it is immediately flooded with noise from words like 'how','what','where' etc. Thus, it is important to remove stop words for LDA. For the end-to-end question matching, however, these words constitute important signal for classifying duplicates. Therefore, stop words were left in, in the end-to-end model."
   ]
  },
  {
   "cell_type": "code",
   "execution_count": 15,
   "metadata": {},
   "outputs": [],
   "source": [
    "# text cleaner class used for LDA, but not for BOW\n",
    "# stop words were found by iteratively running LDA\n",
    "#  and seeing which words were just noise\n",
    "class cleaner:\n",
    "    def __init__(self):\n",
    "        #self.spacy_db = spacy.load('en')\n",
    "        self.stop_words = ['the', 'how', 'of', 'what', 'do','is', 'in',\\\n",
    "                           'to', 'my', 'for','are', 'can', 'you', 'best',\\\n",
    "                           'an','some', 'with', 'which', 'it', 'who', 'why',\\\n",
    "                           'one','who', 'on','and', 'quora','many','be',\\\n",
    "                           'there', 'like','have','should','examples','if','about',\\\n",
    "                          'find','would', 'things','happen','learn','way','use',\\\n",
    "                          'look','much','ias','can','thing','bb']\n",
    "        # add stop wrods from nltk\n",
    "        self.stop_words += nltk_stopset\n",
    "        \n",
    "    # regex cleaning\n",
    "    def regex(self,df_in, colname):\n",
    "        df_in[colname] = df_in[colname].str.lower()\n",
    "        #df_in[colname] = df_in[colname].str.replace(r\"[^A-Za-z0-9(),!?@\\'\\`\\\"\\_\\n]\", \"1\")\n",
    "        df_in[colname] = df_in[colname].str.replace(r\"\\'\\`\\\"\\-\\_\", \"\")\n",
    "        df_in[colname] = df_in[colname].str.replace(\"\\'s\", \"s\")\n",
    "        df_in[colname] = df_in[colname].str.replace(r\"@\\S+\", \"\")\n",
    "        df_in[colname] = df_in[colname].str.replace(r\"@\", \"at\")\n",
    "        df_in[colname] = df_in[colname].str.replace(r\"http\\S+\", \"internet\")\n",
    "        df_in[colname] = df_in[colname].str.replace(r\"http\", \"internet\")\n",
    "        return df_in"
   ]
  },
  {
   "cell_type": "markdown",
   "metadata": {},
   "source": [
    "### END Class Definitions\n"
   ]
  },
  {
   "cell_type": "markdown",
   "metadata": {},
   "source": [
    "### Data Import\n",
    "Let's import the training data."
   ]
  },
  {
   "cell_type": "code",
   "execution_count": 16,
   "metadata": {},
   "outputs": [],
   "source": [
    "df_all = pd.read_csv(\"train.csv\")"
   ]
  },
  {
   "cell_type": "code",
   "execution_count": 17,
   "metadata": {},
   "outputs": [],
   "source": [
    "#drop redundant columns\n",
    "df_all.drop(['id','qid1','qid2'],axis=1,inplace=True)\n",
    "#make column names a bit shorter\n",
    "df_all.columns = ['q1','q2','duplicate']"
   ]
  },
  {
   "cell_type": "code",
   "execution_count": 18,
   "metadata": {},
   "outputs": [
    {
     "name": "stdout",
     "output_type": "stream",
     "text": [
      "CPU times: user 57 ms, sys: 96 µs, total: 57.1 ms\n",
      "Wall time: 56.6 ms\n"
     ]
    }
   ],
   "source": [
    "###############\n",
    "### REMOVE  just get a subset of the data for now\n",
    "Nsubset = np.floor(df_all.shape[0]/subset_power).astype(int)\n",
    "# #df = df_all.iloc[:subind,:]\n",
    "if USE_SUBSET:\n",
    "    df = df_all.sample(Nsubset,random_state=SEED)\n",
    "    df.reset_index()\n",
    "else:\n",
    "    df = df_all\n",
    "# drop na rows\n",
    "%time df = df.dropna()"
   ]
  },
  {
   "cell_type": "markdown",
   "metadata": {},
   "source": [
    "### Exploratory Data Analysis\n",
    "Let's look at the class imbalance of the dataset first:"
   ]
  },
  {
   "cell_type": "code",
   "execution_count": 19,
   "metadata": {
    "scrolled": true
   },
   "outputs": [
    {
     "name": "stdout",
     "output_type": "stream",
     "text": [
      "Classes:  255024 149263 0.5852900119204467\n"
     ]
    },
    {
     "data": {
      "text/plain": [
       "([<matplotlib.axis.XTick at 0x7f1fba6babe0>,\n",
       "  <matplotlib.axis.XTick at 0x7f1fba6ba4e0>],\n",
       " <a list of 2 Text xticklabel objects>)"
      ]
     },
     "execution_count": 19,
     "metadata": {},
     "output_type": "execute_result"
    },
    {
     "data": {
      "text/plain": [
       "<Figure size 432x288 with 0 Axes>"
      ]
     },
     "metadata": {},
     "output_type": "display_data"
    },
    {
     "data": {
      "image/png": "[encoded data removed]",
      "text/plain": [
       "<Figure size 432x288 with 1 Axes>"
      ]
     },
     "metadata": {
      "needs_background": "light"
     },
     "output_type": "display_data"
    }
   ],
   "source": [
    "fig = plt.figure()\n",
    "#ax = fig.add_subplot(111)\n",
    "ax = df.hist('duplicate',bins=2, grid=False)\n",
    "ax[0][0].set_xlabel(\"Is Duplicate?\")\n",
    "ax[0][0].set_ylabel(\"Counts\")\n",
    "N_zero = df['duplicate'].shape[0]-df['duplicate'].sum()\n",
    "N_one = df['duplicate'].sum()\n",
    "print(\"Classes: \",N_zero,N_one,N_one/N_zero)\n",
    "ax[0][0]\n",
    "plt.xticks([0.25,0.75],['0','1'])"
   ]
  },
  {
   "cell_type": "code",
   "execution_count": 20,
   "metadata": {},
   "outputs": [],
   "source": [
    "# save the class weights to a dictionary\n",
    "class_weight_map = {0:N_zero,1:N_one}"
   ]
  },
  {
   "cell_type": "markdown",
   "metadata": {},
   "source": [
    "Let's take a look at basic sentence properties:"
   ]
  },
  {
   "cell_type": "code",
   "execution_count": 21,
   "metadata": {},
   "outputs": [
    {
     "name": "stderr",
     "output_type": "stream",
     "text": [
      "/home/jbryslaw/anaconda3/envs/mednet/lib/python3.6/site-packages/ipykernel_launcher.py:4: SettingWithCopyWarning: \n",
      "A value is trying to be set on a copy of a slice from a DataFrame.\n",
      "Try using .loc[row_indexer,col_indexer] = value instead\n",
      "\n",
      "See the caveats in the documentation: http://pandas.pydata.org/pandas-docs/stable/indexing.html#indexing-view-versus-copy\n",
      "  after removing the cwd from sys.path.\n"
     ]
    }
   ],
   "source": [
    "add_token_col(df,'q1')\n",
    "add_token_col(df,'q2')"
   ]
  },
  {
   "cell_type": "code",
   "execution_count": 22,
   "metadata": {},
   "outputs": [],
   "source": [
    "q1_uniq_tokens = get_uniq(df,'q1_tokens')\n",
    "q2_uniq_tokens = get_uniq(df,'q2_tokens')\n",
    "q1q2_inner = q1_uniq_tokens.intersection(q2_uniq_tokens)"
   ]
  },
  {
   "cell_type": "code",
   "execution_count": 23,
   "metadata": {},
   "outputs": [],
   "source": [
    "q1_uniq_tokens = set_to_list(q1_uniq_tokens)\n",
    "q2_uniq_tokens = set_to_list(q2_uniq_tokens)\n",
    "q1q2_inner = list(q1q2_inner)"
   ]
  },
  {
   "cell_type": "code",
   "execution_count": 24,
   "metadata": {},
   "outputs": [],
   "source": [
    "sum_vocab = [len(q1_uniq_tokens),len(q2_uniq_tokens),len(q1q2_inner)]\n",
    "vocab_title = ['q1','q2','q1&&q2']"
   ]
  },
  {
   "cell_type": "code",
   "execution_count": 25,
   "metadata": {
    "scrolled": false
   },
   "outputs": [
    {
     "data": {
      "image/png": "[encoded data removed]",
      "text/plain": [
       "<Figure size 432x288 with 1 Axes>"
      ]
     },
     "metadata": {
      "needs_background": "light"
     },
     "output_type": "display_data"
    }
   ],
   "source": [
    "plot_list(sum_vocab,vocab_title,xtitle=\"Unique Words\",title=\"Number of Unique Words\")"
   ]
  },
  {
   "cell_type": "markdown",
   "metadata": {},
   "source": [
    "We will form sentence embeddings as part of the EDA, because it will allow us to visualize important words and structures in the text."
   ]
  },
  {
   "cell_type": "markdown",
   "metadata": {},
   "source": [
    "### Validation Set\n",
    "Since the test set is unlabeled, we will create a validation set to test any models. The training set is split into a validation set, with a random 80,20 split. We will do that here, before proceeding to the rest of the EDA. This way any models or embedding transformations performed during the EDA do not contaminate the validation set."
   ]
  },
  {
   "cell_type": "code",
   "execution_count": 26,
   "metadata": {},
   "outputs": [],
   "source": [
    "X_train, X_val, y_train, y_val = train_test_split(df[['q1','q2']],\\\n",
    "                    df[['duplicate']],test_size = 0.2, random_state=SEED)"
   ]
  },
  {
   "cell_type": "markdown",
   "metadata": {},
   "source": [
    "#### Bag of Words:\n",
    "To visualize the distributions of matched and unmatched questions, BOW and TFIDF vectors are generated. These TF-IDF vectors will also be used for the final end-to-end classification."
   ]
  },
  {
   "cell_type": "code",
   "execution_count": 27,
   "metadata": {},
   "outputs": [],
   "source": [
    "#BOW\n",
    "bow_model = embObj(X_train)\n",
    "allq_BOWemb,BOW_cv = bow_model.bow()\n",
    "train_BOWembq1, train_BOWembq2  = bow_model.bow_trnsfrm(X_train)\n",
    "val_BOWembq1, val_BOWembq2  = bow_model.bow_trnsfrm(X_val)"
   ]
  },
  {
   "cell_type": "code",
   "execution_count": 28,
   "metadata": {},
   "outputs": [],
   "source": [
    "#TFIDF w Ngrams\n",
    "tfidf_model = embObj(X_train)\n",
    "allq_TFemb,TFIDF_cv = tfidf_model.TFIDF()\n",
    "train_tfembq1, train_tfembq2 = tfidf_model.tfidf_trnsfrm(X_train)\n",
    "val_tfembq1, val_tfembq2 = tfidf_model.tfidf_trnsfrm(X_val)"
   ]
  },
  {
   "cell_type": "markdown",
   "metadata": {},
   "source": [
    "Let's take a first look at the embeddings. To get a quick look at class separation, we can take the vector sum of each question embedding and plot its class label."
   ]
  },
  {
   "cell_type": "code",
   "execution_count": 29,
   "metadata": {},
   "outputs": [],
   "source": [
    "trainBOW_vsum = train_BOWembq1+train_BOWembq2\n",
    "valBOW_vsum = val_BOWembq1+val_BOWembq2\n",
    "train_tf_vsum = train_tfembq1+train_tfembq2\n",
    "val_tf_vsum = val_tfembq1+val_tfembq2"
   ]
  },
  {
   "cell_type": "markdown",
   "metadata": {},
   "source": [
    "We can get a quick idea of the class separation, buy plotting after performing a 2D PCA."
   ]
  },
  {
   "cell_type": "markdown",
   "metadata": {},
   "source": [
    "#### BOW embedding distributions:\n",
    "Duplicates shown in blue, Non-duplicates shown in Orange."
   ]
  },
  {
   "cell_type": "code",
   "execution_count": 30,
   "metadata": {
    "scrolled": true
   },
   "outputs": [
    {
     "data": {
      "image/png": "[encoded data removed]",
      "text/plain": [
       "<Figure size 432x288 with 1 Axes>"
      ]
     },
     "metadata": {
      "needs_background": "light"
     },
     "output_type": "display_data"
    }
   ],
   "source": [
    "plot_PCA_emb(trainBOW_vsum,y_train)"
   ]
  },
  {
   "cell_type": "markdown",
   "metadata": {},
   "source": [
    "#### TFIDF embedding distributions:\n",
    "Duplicates shown in blue, Non-duplicates shown in Orange."
   ]
  },
  {
   "cell_type": "code",
   "execution_count": 31,
   "metadata": {},
   "outputs": [
    {
     "data": {
      "image/png": "[encoded data removed]",
      "text/plain": [
       "<Figure size 432x288 with 1 Axes>"
      ]
     },
     "metadata": {
      "needs_background": "light"
     },
     "output_type": "display_data"
    }
   ],
   "source": [
    "plot_PCA_emb(train_tf_vsum,y_train)"
   ]
  },
  {
   "cell_type": "markdown",
   "metadata": {},
   "source": [
    "Visually, the simple bag of words model appears more separated than the TF-IDF model. This indicates the importance of what normaly are considered stop words, in understanding what is being asked in questions."
   ]
  },
  {
   "cell_type": "markdown",
   "metadata": {},
   "source": [
    "### Baseline Prediction\n",
    "In order to have a baseline for the more complex BDT model, let's perform a simple logistic regression binary classification. As features, the vector sum of the TFIDF embeddings of question 1 and question 2 for every question pair is used. The model will be fit on the training set, and predicted using the validation set. This naive model will give a lower bound on the performance we should expect from more complicated models."
   ]
  },
  {
   "cell_type": "code",
   "execution_count": 32,
   "metadata": {
    "scrolled": false
   },
   "outputs": [
    {
     "name": "stderr",
     "output_type": "stream",
     "text": [
      "/home/jbryslaw/anaconda3/envs/mednet/lib/python3.6/site-packages/sklearn/linear_model/logistic.py:433: FutureWarning: Default solver will be changed to 'lbfgs' in 0.22. Specify a solver to silence this warning.\n",
      "  FutureWarning)\n",
      "/home/jbryslaw/anaconda3/envs/mednet/lib/python3.6/site-packages/sklearn/utils/validation.py:761: DataConversionWarning: A column-vector y was passed when a 1d array was expected. Please change the shape of y to (n_samples, ), for example using ravel().\n",
      "  y = column_or_1d(y, warn=True)\n"
     ]
    },
    {
     "name": "stdout",
     "output_type": "stream",
     "text": [
      "Recall: 0.6561703554661301 \n",
      " Precision: 0.761124941652404 \n",
      " ACC: 0.7972494991219174 \n",
      " [[0.65617036 0.34382964]\n",
      " [0.12032211 0.87967789]]\n"
     ]
    },
    {
     "data": {
      "text/plain": [
       "array([[0.97649989, 0.02350011],\n",
       "       [0.58835038, 0.41164962],\n",
       "       [0.70530671, 0.29469329],\n",
       "       ...,\n",
       "       [0.88963763, 0.11036237],\n",
       "       [0.73331993, 0.26668007],\n",
       "       [0.94355223, 0.05644777]])"
      ]
     },
     "execution_count": 32,
     "metadata": {},
     "output_type": "execute_result"
    },
    {
     "data": {
      "image/png": "[encoded data removed]",
      "text/plain": [
       "<Figure size 432x288 with 2 Axes>"
      ]
     },
     "metadata": {
      "needs_background": "light"
     },
     "output_type": "display_data"
    }
   ],
   "source": [
    "fit_logr(train_tf_vsum,y_train,val_tf_vsum,y_val,thresh=0.5)"
   ]
  },
  {
   "cell_type": "markdown",
   "metadata": {},
   "source": [
    "The baseline prediction with logistic regression on the vector sum of the question TFIDF embeddings obtains an accuracy of 79.7%, recall of 65.6% and precision of 76.1%."
   ]
  },
  {
   "cell_type": "markdown",
   "metadata": {},
   "source": [
    "### TOPIC MODELING"
   ]
  },
  {
   "cell_type": "markdown",
   "metadata": {},
   "source": [
    "The importance of different components of the TFIDF embedding will vary for questions pairs occupying different topics. In order to capture this information, we will use Latent Dirichlet Allocation (LDA) topic modeling. "
   ]
  },
  {
   "cell_type": "markdown",
   "metadata": {},
   "source": [
    "LDA is sensitive to noise, so the data is first cleaned using stop words and regex rules defined in the cleaner class above."
   ]
  },
  {
   "cell_type": "code",
   "execution_count": 33,
   "metadata": {},
   "outputs": [],
   "source": [
    "lda_cleaner = cleaner()\n",
    "X_train = lda_cleaner.regex(X_train,'q1')\n",
    "X_train = lda_cleaner.regex(X_train,'q2')\n",
    "X_val = lda_cleaner.regex(X_val,'q1')\n",
    "X_val = lda_cleaner.regex(X_val,'q2')"
   ]
  },
  {
   "cell_type": "code",
   "execution_count": 34,
   "metadata": {},
   "outputs": [],
   "source": [
    "# Construct and lda model class\n",
    "#X_lda_train = X_train.iloc[:100000,:]\n",
    "lda_model = lda_emb(X_train)\n",
    "lda_model.stop_words = lda_cleaner.stop_words"
   ]
  },
  {
   "cell_type": "markdown",
   "metadata": {},
   "source": [
    "LDA requires the number of topics to be predefined. In order to obtain the optimum number of topics, LDA models were created for the following number of topics: (5,10,25,50,100,250,500). 100 topics was selected since it resulted in the best u_mass coherence score. This iterative selection of topic number is done in the line below, but is commented out, since it takes several hours to complete."
   ]
  },
  {
   "cell_type": "code",
   "execution_count": 35,
   "metadata": {},
   "outputs": [],
   "source": [
    "#%time lda_model.gen_model_distro() # [5,10,25,50,100,250,500]\n",
    "# print(lda_model.cohere_distro) \n",
    "# plot_scatter_list(lda_model.cohere_distro,lda_model.Ntopic_distro)"
   ]
  },
  {
   "cell_type": "markdown",
   "metadata": {},
   "source": [
    "Fit the final LDA model, with the selected number of topics:"
   ]
  },
  {
   "cell_type": "code",
   "execution_count": 36,
   "metadata": {},
   "outputs": [
    {
     "name": "stdout",
     "output_type": "stream",
     "text": [
      "CPU times: user 11min 6s, sys: 11.2 ms, total: 11min 6s\n",
      "Wall time: 11min 6s\n"
     ]
    }
   ],
   "source": [
    "%time lda_model.get_single_model(10)"
   ]
  },
  {
   "cell_type": "code",
   "execution_count": 37,
   "metadata": {},
   "outputs": [],
   "source": [
    "#lda_model.read_model_distro()"
   ]
  },
  {
   "cell_type": "code",
   "execution_count": 38,
   "metadata": {},
   "outputs": [],
   "source": [
    "#lda_model.showTopics(100)\n",
    "#[obj[0] for obj in lda_model.top_words]"
   ]
  },
  {
   "cell_type": "markdown",
   "metadata": {},
   "source": [
    "After a topic model is created, topics can be added to each question as a feature."
   ]
  },
  {
   "cell_type": "code",
   "execution_count": 39,
   "metadata": {},
   "outputs": [
    {
     "name": "stdout",
     "output_type": "stream",
     "text": [
      "CPU times: user 11.2 s, sys: 12 ms, total: 11.2 s\n",
      "Wall time: 11.2 s\n"
     ]
    }
   ],
   "source": [
    "%%time\n",
    "#select topic model\n",
    "topicModel = lda_model.single_model\n",
    "\n",
    "# add topic back to old docs\n",
    "trainq1_emb = lda_emb(X_train.loc[:,'q1'])\n",
    "trainq2_emb = lda_emb(X_train.loc[:,'q2'])\n",
    "trainq1_emb.stop_words = lda_cleaner.stop_words\n",
    "trainq1_emb.stop_words = lda_cleaner.stop_words\n",
    "trainq1_emb.genTFIDF(singlecol=True)\n",
    "trainq2_emb.genTFIDF(singlecol=True)\n",
    "\n",
    "#predict topic for new docs\n",
    "valq1_emb = lda_emb(X_val.loc[:,'q1'])\n",
    "valq2_emb = lda_emb(X_val.loc[:,'q2'])\n",
    "valq1_emb.stop_words = lda_cleaner.stop_words\n",
    "valq1_emb.stop_words = lda_cleaner.stop_words\n",
    "valq1_emb.genTFIDF(singlecol=True)\n",
    "valq2_emb.genTFIDF(singlecol=True)"
   ]
  },
  {
   "cell_type": "code",
   "execution_count": 40,
   "metadata": {},
   "outputs": [
    {
     "data": {
      "text/plain": [
       "(80858, 2)"
      ]
     },
     "execution_count": 40,
     "metadata": {},
     "output_type": "execute_result"
    }
   ],
   "source": [
    "X_val.shape"
   ]
  },
  {
   "cell_type": "code",
   "execution_count": 41,
   "metadata": {},
   "outputs": [
    {
     "name": "stdout",
     "output_type": "stream",
     "text": [
      "CPU times: user 1min 29s, sys: 128 ms, total: 1min 29s\n",
      "Wall time: 1min 29s\n"
     ]
    }
   ],
   "source": [
    "%%time\n",
    "# get the predictic topic for each question\n",
    "add_token_col(X_train,'q1')\n",
    "add_token_col(X_train,'q2')\n",
    "add_topic_col(X_train,'q1_tokens',trainq1_emb,topicModel)\n",
    "add_topic_col(X_train,'q2_tokens',trainq1_emb,topicModel)\n",
    "add_token_col(X_val,'q1')\n",
    "add_token_col(X_val,'q2')\n",
    "add_topic_col(X_val,'q1_tokens',valq1_emb,topicModel)\n",
    "add_topic_col(X_val,'q2_tokens',valq1_emb,topicModel)"
   ]
  },
  {
   "cell_type": "code",
   "execution_count": 42,
   "metadata": {},
   "outputs": [
    {
     "name": "stdout",
     "output_type": "stream",
     "text": [
      "CPU times: user 358 µs, sys: 0 ns, total: 358 µs\n",
      "Wall time: 361 µs\n"
     ]
    }
   ],
   "source": [
    "%%time\n",
    "q1_topics = X_train.loc[:,'q1_tokens_topic'].values\n",
    "q2_topics = X_train.loc[:,'q2_tokens_topic'].values\n",
    "val_q1_topics = X_val.loc[:,'q1_tokens_topic'].values\n",
    "val_q2_topics = X_val.loc[:,'q2_tokens_topic'].values"
   ]
  },
  {
   "cell_type": "code",
   "execution_count": 43,
   "metadata": {},
   "outputs": [
    {
     "name": "stdout",
     "output_type": "stream",
     "text": [
      "CPU times: user 15 ms, sys: 0 ns, total: 15 ms\n",
      "Wall time: 14.5 ms\n"
     ]
    }
   ],
   "source": [
    "%%time\n",
    "q1_topics = sparse.csr_matrix(q1_topics)\n",
    "q2_topics = sparse.csr_matrix(q2_topics)\n",
    "val_q1_topics = sparse.csr_matrix(val_q1_topics)\n",
    "val_q2_topics = sparse.csr_matrix(val_q2_topics)"
   ]
  },
  {
   "cell_type": "code",
   "execution_count": 44,
   "metadata": {},
   "outputs": [
    {
     "name": "stdout",
     "output_type": "stream",
     "text": [
      "CPU times: user 66 µs, sys: 1 µs, total: 67 µs\n",
      "Wall time: 68.7 µs\n"
     ]
    }
   ],
   "source": [
    "%time q1_topics = q1_topics.T\n",
    "q2_topics = q2_topics.T\n",
    "val_q1_topics = val_q1_topics.T\n",
    "val_q2_topics = val_q2_topics.T"
   ]
  },
  {
   "cell_type": "markdown",
   "metadata": {},
   "source": [
    "### Named Entity Recognition"
   ]
  },
  {
   "cell_type": "markdown",
   "metadata": {},
   "source": [
    "For certain question topic groups, it is important that proper names match between questions. Ideally Named Entity Recognition (NER) would be performed on each question, then the level of matching between NER objects would be used as a feature. Before performing the full NER matching, lets perform consine similarity on raw BOW as a proxy for strict NER matching."
   ]
  },
  {
   "cell_type": "code",
   "execution_count": 45,
   "metadata": {},
   "outputs": [
    {
     "name": "stdout",
     "output_type": "stream",
     "text": [
      "CPU times: user 4min 18s, sys: 35.8 ms, total: 4min 18s\n",
      "Wall time: 4min 18s\n"
     ]
    }
   ],
   "source": [
    "%%time\n",
    "train_cs = []\n",
    "for i in range(train_BOWembq1.shape[0]):\n",
    "    train_cs.append(cosine_similarity(train_BOWembq1[i], train_BOWembq2[i])[0][0])\n",
    "# X_train['cs']=pd.DataFrame(train_cs)\n",
    "# X_train.fillna(0,inplace=True)\n",
    "val_cs = []\n",
    "for i in range(val_BOWembq1.shape[0]):\n",
    "    val_cs.append(cosine_similarity(val_BOWembq1[i], val_BOWembq2[i])[0][0])\n",
    "# X_val['cs']=pd.DataFrame(val_cs)\n",
    "# X_val.fillna(0,inplace=True)"
   ]
  },
  {
   "cell_type": "code",
   "execution_count": 46,
   "metadata": {},
   "outputs": [
    {
     "name": "stdout",
     "output_type": "stream",
     "text": [
      "CPU times: user 40.8 ms, sys: 1 µs, total: 40.8 ms\n",
      "Wall time: 40 ms\n"
     ]
    }
   ],
   "source": [
    "%%time\n",
    "train_cs = sparse.csr_matrix(train_cs)\n",
    "val_cs = sparse.csr_matrix(val_cs)\n",
    "train_cs = train_cs.T\n",
    "val_cs = val_cs.T"
   ]
  },
  {
   "cell_type": "markdown",
   "metadata": {},
   "source": [
    "### Final Model\n",
    "The final model, will be a boosted decision tree which will combine features from the end-to-end classification, LDA topic modeling and proper name matching."
   ]
  },
  {
   "cell_type": "code",
   "execution_count": 179,
   "metadata": {},
   "outputs": [],
   "source": [
    "X_train_features = sparse_hstack((train_tfembq1+train_tfembq2,q1_topics,q2_topics,train_cs))\n",
    "X_val_features = sparse_hstack((val_tfembq1+val_tfembq2,val_q1_topics,val_q2_topics,val_cs))"
   ]
  },
  {
   "cell_type": "code",
   "execution_count": null,
   "metadata": {},
   "outputs": [],
   "source": [
    "%%time\n",
    "xgb_fit = xgb.XGBClassifier(objective='binary:logistic', max_depth=20, n_estimators=1250,\\\n",
    "                            subsample=0.7,colsample_bytree=0.21,colsample_bylevel=0.21,\\\n",
    "                            colsample_bynode=0.5,num_parallel_tree=6,\\\n",
    "                            eta=0.1, learning_rate=0.09,nthread=8)\n",
    "# use the validation set to do early stopping\n",
    "evaldata = [(X_train_features, y_train),(X_val_features, y_val)]\n",
    "xgb_fit.fit(X_train_features, y_train,\\\n",
    "           eval_metric=\"auc\", early_stopping_rounds=20,\\\n",
    "           eval_set=evaldata,verbose=False)"
   ]
  },
  {
   "cell_type": "markdown",
   "metadata": {},
   "source": [
    "Let's take a look at the training performance:"
   ]
  },
  {
   "cell_type": "code",
   "execution_count": null,
   "metadata": {},
   "outputs": [],
   "source": [
    "y_pred_train = xgb_fit.predict(X_train_features)"
   ]
  },
  {
   "cell_type": "code",
   "execution_count": null,
   "metadata": {},
   "outputs": [],
   "source": [
    "cm, R, P, ACC = get_cm(y_train,y_pred_train)\n",
    "ncm = norm_cm(cm)\n",
    "plot_cm(ncm)\n",
    "print(\"Recall:\",R,\"\\n\",\"Precision:\",P,\"\\n\",\"ACC:\",ACC)"
   ]
  },
  {
   "cell_type": "code",
   "execution_count": null,
   "metadata": {},
   "outputs": [],
   "source": [
    "y_pred = xgb_fit.predict(X_val_features)"
   ]
  },
  {
   "cell_type": "markdown",
   "metadata": {},
   "source": [
    "Let's look at the performance on the validation set:"
   ]
  },
  {
   "cell_type": "code",
   "execution_count": null,
   "metadata": {},
   "outputs": [],
   "source": [
    "cm, R, P, ACC = get_cm(y_val,y_pred)\n",
    "ncm = norm_cm(cm)\n",
    "plot_cm(ncm)\n",
    "print(\"Recall:\",R,\"\\n\",\"Precision:\",P,\"\\n\",\"ACC:\",ACC)"
   ]
  },
  {
   "cell_type": "markdown",
   "metadata": {},
   "source": [
    "### Running on test set:\n",
    "Now we can use the final model to make predictions on the unlabeled test set:"
   ]
  },
  {
   "cell_type": "code",
   "execution_count": null,
   "metadata": {},
   "outputs": [],
   "source": [
    "df_test = pd.read_csv(\"test_subset.csv\")\n",
    "# drop na rows\n",
    "df_test = df_test.fillna(\"\")"
   ]
  },
  {
   "cell_type": "code",
   "execution_count": null,
   "metadata": {},
   "outputs": [],
   "source": [
    "df_test"
   ]
  },
  {
   "cell_type": "code",
   "execution_count": null,
   "metadata": {},
   "outputs": [],
   "source": [
    "#make column names a bit shorter\n",
    "df_test.columns = ['test_id','q1','q2']\n",
    "X_test = df_test[['q1','q2']]"
   ]
  },
  {
   "cell_type": "code",
   "execution_count": null,
   "metadata": {
    "scrolled": true
   },
   "outputs": [],
   "source": [
    "X_test"
   ]
  },
  {
   "cell_type": "markdown",
   "metadata": {},
   "source": [
    "Perform the embedding transformations as above:"
   ]
  },
  {
   "cell_type": "code",
   "execution_count": null,
   "metadata": {},
   "outputs": [],
   "source": [
    "test_BOWembq1, test_BOWembq2  = bow_model.bow_trnsfrm(X_test)\n",
    "test_tfembq1, test_tfembq2 = tfidf_model.tfidf_trnsfrm(X_test)\n",
    "test_tf_vsum = test_tfembq1+test_tfembq2\n",
    "X_test = lda_cleaner.regex(X_test,'q1')\n",
    "X_test = lda_cleaner.regex(X_test,'q2')\n",
    "testq1_emb = lda_emb(X_test.loc[:,'q1'],preset_dict=lda_model.dictionary)\n",
    "testq2_emb = lda_emb(X_test.loc[:,'q2'],preset_dict=lda_model.dictionary)\n",
    "testq1_emb.stop_words = lda_cleaner.stop_words\n",
    "testq1_emb.stop_words = lda_cleaner.stop_words\n",
    "testq1_emb.genTFIDF(singlecol=True)\n",
    "testq2_emb.genTFIDF(singlecol=True)\n",
    "add_token_col(X_test,'q1')\n",
    "add_token_col(X_test,'q2')\n",
    "add_topic_col(X_test,'q1_tokens',testq1_emb,topicModel)\n",
    "add_topic_col(X_test,'q2_tokens',testq1_emb,topicModel)\n",
    "test_q1_topics = X_test.loc[:,'q1_tokens_topic'].values\n",
    "test_q2_topics = X_test.loc[:,'q2_tokens_topic'].values\n",
    "test_q1_topics = sparse.csr_matrix(test_q1_topics)\n",
    "test_q2_topics = sparse.csr_matrix(test_q2_topics)\n",
    "test_q1_topics = test_q1_topics.T\n",
    "test_q2_topics = test_q2_topics.T\n"
   ]
  },
  {
   "cell_type": "code",
   "execution_count": null,
   "metadata": {},
   "outputs": [],
   "source": [
    "# CS\n",
    "test_cs = []\n",
    "for i in range(test_BOWembq1.shape[0]):\n",
    "    test_cs.append(cosine_similarity(test_BOWembq1[i], test_BOWembq2[i])[0][0])\n",
    "test_cs = sparse.csr_matrix(test_cs)\n",
    "test_cs = test_cs.T"
   ]
  },
  {
   "cell_type": "code",
   "execution_count": null,
   "metadata": {},
   "outputs": [],
   "source": [
    "test_tfembq1"
   ]
  },
  {
   "cell_type": "code",
   "execution_count": null,
   "metadata": {},
   "outputs": [],
   "source": [
    "X_test_features = sparse_hstack((test_tfembq1+test_tfembq2,test_q1_topics,test_q2_topics,test_cs))"
   ]
  },
  {
   "cell_type": "code",
   "execution_count": null,
   "metadata": {},
   "outputs": [],
   "source": [
    "y_test_predictions = xgb_fit.predict(X_test_features)"
   ]
  },
  {
   "cell_type": "code",
   "execution_count": null,
   "metadata": {},
   "outputs": [],
   "source": [
    "y_test_predictions.shape[0]"
   ]
  },
  {
   "cell_type": "code",
   "execution_count": null,
   "metadata": {},
   "outputs": [],
   "source": [
    "test_ids = np.arange(0,y_test_predictions.shape[0])"
   ]
  },
  {
   "cell_type": "code",
   "execution_count": null,
   "metadata": {},
   "outputs": [],
   "source": [
    "out = np.vstack((test_ids,y_test_predictions)).T"
   ]
  },
  {
   "cell_type": "code",
   "execution_count": null,
   "metadata": {},
   "outputs": [],
   "source": [
    "# save to csv\n",
    "np.savetxt('submission.csv',out, delimiter=',',fmt='%d')"
   ]
  },
  {
   "cell_type": "code",
   "execution_count": null,
   "metadata": {},
   "outputs": [],
   "source": []
  }
 ],
 "metadata": {
  "kernelspec": {
   "display_name": "Python 3",
   "language": "python",
   "name": "python3"
  },
  "language_info": {
   "codemirror_mode": {
    "name": "ipython",
    "version": 3
   },
   "file_extension": ".py",
   "mimetype": "text/x-python",
   "name": "python",
   "nbconvert_exporter": "python",
   "pygments_lexer": "ipython3",
   "version": "3.6.6"
  }
 },
 "nbformat": 4,
 "nbformat_minor": 2
}
